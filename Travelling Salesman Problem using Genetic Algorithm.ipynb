{
 "cells": [
  {
   "cell_type": "markdown",
   "metadata": {},
   "source": [
    "### Import libraries"
   ]
  },
  {
   "cell_type": "code",
   "execution_count": 1,
   "metadata": {},
   "outputs": [],
   "source": [
    "import json\n",
    "import numpy as np\n",
    "import matplotlib.pyplot as plt\n",
    "import pandas as pd\n",
    "import random\n",
    "from math import sqrt\n",
    "import operator\n",
    "import matplotlib.animation as animation\n",
    "import time\n",
    "%matplotlib inline \n",
    "# %matplotlib notebook"
   ]
  },
  {
   "cell_type": "code",
   "execution_count": 2,
   "metadata": {},
   "outputs": [],
   "source": [
    "class Location:\n",
    "    \n",
    "    def __init__(self, x, y):\n",
    "        self.x = x\n",
    "        self.y = y\n",
    "    \n",
    "    def calcDistance(self, c):\n",
    "        return sqrt((self.x - c.x)**2 + (self.y - c.y)**2)\n",
    "    \n",
    "    def dispLoc(self):\n",
    "        return (self.x, self.y)\n",
    "#         return '('+str(self.x)+','+str(self.y)+')'\n",
    "    "
   ]
  },
  {
   "cell_type": "markdown",
   "metadata": {},
   "source": [
    "### Generate Initial Population from set of locations"
   ]
  },
  {
   "cell_type": "code",
   "execution_count": 3,
   "metadata": {},
   "outputs": [],
   "source": [
    "def generateInitialPopulation(locations, population_size):\n",
    "    initial_population = []\n",
    "    for i in range(0, population_size):\n",
    "        initial_population.append(random.sample(locations, len(locations)))\n",
    "    return  initial_population        "
   ]
  },
  {
   "cell_type": "markdown",
   "metadata": {},
   "source": [
    "### Selection"
   ]
  },
  {
   "cell_type": "code",
   "execution_count": 4,
   "metadata": {},
   "outputs": [],
   "source": [
    "def calcFitness(locations):\n",
    "    score = 0.0\n",
    "    for i in range(len(locations)):\n",
    "        f = 0.0\n",
    "        if i == len(locations)-1:\n",
    "            f = locations[i].calcDistance(locations[0])\n",
    "        else:\n",
    "            f = locations[i].calcDistance(locations[i+1])\n",
    "        score += f\n",
    "    score = (1/score)\n",
    "    return score"
   ]
  },
  {
   "cell_type": "code",
   "execution_count": 5,
   "metadata": {},
   "outputs": [],
   "source": [
    "def Selection(population, elite_size):\n",
    "    fitness_values = {}\n",
    "    selection_pool = []\n",
    "    selection_pool_index = []\n",
    "    for i in range(len(population)):\n",
    "        fitness_values[i] = calcFitness(population[i])\n",
    "    sorted_fitness = sorted(fitness_values.items(), key = operator.itemgetter(1), reverse = True)\n",
    "    df = pd.DataFrame(np.array(sorted_fitness), columns=[\"Index\",\"Fitness\"])\n",
    "    df['cum_sum'] = df.Fitness.cumsum()\n",
    "    df['cum_perc'] = 100*df.cum_sum/df.Fitness.sum()\n",
    "    for i in range(0, elite_size):\n",
    "#         selection_pool_index.append(sorted_fitness[i][0])\n",
    "        selection_pool.append(population[sorted_fitness[i][0]])\n",
    "    for i in range(0, len(sorted_fitness) - elite_size):\n",
    "        pick = 100*random.random()\n",
    "        for i in range(0, len(sorted_fitness)):\n",
    "            if pick <= df.iat[i,3]:\n",
    "                selection_pool.append(population[sorted_fitness[i][0]])\n",
    "#                 selection_pool_index.append(sorted_fitness[i][0])\n",
    "                break  \n",
    "    \n",
    "    return selection_pool"
   ]
  },
  {
   "cell_type": "code",
   "execution_count": 6,
   "metadata": {},
   "outputs": [],
   "source": [
    "def Mating(sel_pool, elite_size):\n",
    "    offsprings = sel_pool[:elite_size]\n",
    "    new_pool = random.sample(sel_pool, len(sel_pool))   #retain the best routes using ellitism\n",
    "    for i in range(0, len(sel_pool)-elite_size):\n",
    "        a = int(random.random()*len(new_pool[i]))\n",
    "        b = int(random.random()*len(new_pool[len(sel_pool)-i-1]))\n",
    "        new_off = new_pool[i][min(a,b):max(a,b)]\n",
    "        new_off += [i for i in new_pool[len(sel_pool)-i-1] if i not in new_off]\n",
    "        offsprings.append(new_off)\n",
    "    return offsprings"
   ]
  },
  {
   "cell_type": "code",
   "execution_count": 7,
   "metadata": {},
   "outputs": [],
   "source": [
    "def Mutate(offsprings, mutation_rate):\n",
    "    for i in range(len(offsprings)):\n",
    "        for j in range(len(offsprings[i])):\n",
    "            if(random.random() < mutation_rate):\n",
    "                rand = int(random.random()*len(offsprings[i]))\n",
    "                temp = offsprings[i][rand]\n",
    "                offsprings[i][rand] = offsprings[i][j]\n",
    "                offsprings[i][j] = temp\n",
    "    return offsprings                "
   ]
  },
  {
   "cell_type": "code",
   "execution_count": 8,
   "metadata": {},
   "outputs": [],
   "source": [
    "new_pop=[]\n",
    "def TSA_GA(num_location, population_size, elite_size, mutation_rate, num_generations):\n",
    "    location = []\n",
    "    dist = []\n",
    "    # Generate random locations dataset\n",
    "    for i in range(num_location):\n",
    "        (x, y) = (int(random.random()*100), int(random.random()*100))\n",
    "        location.append(Location(x, y))\n",
    "    population = generateInitialPopulation(location, population_size)\n",
    "    print(\"Initial Distance:\", str(1/calcFitness(population[0])))\n",
    "    for i in range(num_generations):\n",
    "        sel = Selection(population, elite_size)\n",
    "        dist.append((1/calcFitness(sel[0])))\n",
    "        offsprings = Mating(sel, elite_size)\n",
    "        new_pop = Mutate(offsprings, mutation_rate)\n",
    "        population = new_pop\n",
    "    print(\"Final Distance:\", str(1/calcFitness(offsprings[0])))\n",
    "    print(\"Best route:\")\n",
    "    for i in sel[0]:\n",
    "        print(i.dispLoc())\n",
    "    return dist, sel[0]\n",
    "    "
   ]
  },
  {
   "cell_type": "code",
   "execution_count": 9,
   "metadata": {},
   "outputs": [
    {
     "name": "stdout",
     "output_type": "stream",
     "text": [
      "Initial Distance: 1158.0593393364466\n",
      "Final Distance: 372.67742850795315\n",
      "Best route:\n",
      "(79, 35)\n",
      "(96, 30)\n",
      "(88, 26)\n",
      "(84, 20)\n",
      "(78, 7)\n",
      "(58, 49)\n",
      "(50, 50)\n",
      "(74, 78)\n",
      "(55, 82)\n",
      "(2, 80)\n",
      "(2, 78)\n",
      "(1, 62)\n",
      "(16, 57)\n",
      "(7, 43)\n",
      "(11, 42)\n",
      "(11, 12)\n",
      "(19, 13)\n",
      "(26, 17)\n",
      "(29, 13)\n",
      "(62, 25)\n"
     ]
    }
   ],
   "source": [
    "with open('config.json') as json_data_file:\n",
    "    data = json.load(json_data_file)\n",
    "dist, path = TSA_GA(data['num_location'], data['population_size'], data['elite_size'], data['mutation_rate'], data['num_generations'])\n",
    "path = [i.dispLoc() for i in path]"
   ]
  },
  {
   "cell_type": "code",
   "execution_count": 10,
   "metadata": {},
   "outputs": [
    {
     "data": {
      "image/png": "[encoded data removed]",
      "text/plain": [
       "<Figure size 432x288 with 1 Axes>"
      ]
     },
     "metadata": {
      "needs_background": "light"
     },
     "output_type": "display_data"
    }
   ],
   "source": [
    "def plotGraph(dist, generation):\n",
    "    plt.plot(dist)\n",
    "    plt.ylabel('Distance')\n",
    "    plt.xlabel('Generation')\n",
    "    plt.show()\n",
    "    \n",
    "plotGraph(dist, generation = data['num_generations'])"
   ]
  },
  {
   "cell_type": "code",
   "execution_count": 55,
   "metadata": {},
   "outputs": [
    {
     "data": {
      "image/png": "[encoded data removed]",
      "text/plain": [
       "<Figure size 720x576 with 1 Axes>"
      ]
     },
     "metadata": {
      "needs_background": "light"
     },
     "output_type": "display_data"
    }
   ],
   "source": [
    "x = []\n",
    "y = []\n",
    "for i in path:\n",
    "    x.append(i[0])\n",
    "    y.append(i[1])\n",
    "\n",
    "fig = plt.figure(figsize=(10, 8))\n",
    "plt.scatter(x, y, marker ='o', s=50)\n",
    "plt.scatter(x[0], y[0], marker ='o', color='green', s=200)\n",
    "plt.scatter(x[-1], y[-1], marker ='o', color='red', s=200)\n",
    "plt.ylabel('Y co-ordinate')\n",
    "plt.xlabel('X co-ordinate')\n",
    "plt.title(\"Shortest Path\")\n",
    "for i in range(len(path)):\n",
    "#     time.sleep(0.5)\n",
    "    if i == len(path) - 1:\n",
    "        plt.plot([path[i][0], path[0][0]], [path[i][1], path[0][1]])\n",
    "    else:\n",
    "        plt.plot([path[i][0], path[i+1][0]], [path[i][1], path[i+1][1]])\n",
    "#     plt.pause(0.5)\n",
    "\n",
    "    \n",
    "plt.show()\n",
    "    \n"
   ]
  }
 ],
 "metadata": {
  "kernelspec": {
   "display_name": ".venv",
   "language": "python",
   "name": ".venv"
  },
  "language_info": {
   "codemirror_mode": {
    "name": "ipython",
    "version": 3
   },
   "file_extension": ".py",
   "mimetype": "text/x-python",
   "name": "python",
   "nbconvert_exporter": "python",
   "pygments_lexer": "ipython3",
   "version": "3.6.4"
  }
 },
 "nbformat": 4,
 "nbformat_minor": 2
}
