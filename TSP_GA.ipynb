{
 "cells": [
  {
   "cell_type": "markdown",
   "metadata": {},
   "source": [
    "# Travelling Salesman Problem using Genetic Algorithm"
   ]
  },
  {
   "cell_type": "markdown",
   "metadata": {},
   "source": [
    "#### Import libraries"
   ]
  },
  {
   "cell_type": "code",
   "execution_count": 1,
   "metadata": {},
   "outputs": [],
   "source": [
    "import json\n",
    "import numpy as np\n",
    "import matplotlib.pyplot as plt\n",
    "import pandas as pd\n",
    "import random\n",
    "from math import sqrt\n",
    "import operator\n",
    "import matplotlib.animation as animation\n",
    "import time\n",
    "%matplotlib inline "
   ]
  },
  {
   "cell_type": "markdown",
   "metadata": {},
   "source": [
    "Class is created for locations or cities"
   ]
  },
  {
   "cell_type": "code",
   "execution_count": 2,
   "metadata": {},
   "outputs": [],
   "source": [
    "class Location:\n",
    "    def __init__(self, x, y):\n",
    "        self.x = x\n",
    "        self.y = y\n",
    "    \n",
    "    def calcDistance(self, c):\n",
    "        return sqrt((self.x - c.x)**2 + (self.y - c.y)**2)\n",
    "    \n",
    "    def dispLoc(self):\n",
    "        return (self.x, self.y)    "
   ]
  },
  {
   "cell_type": "markdown",
   "metadata": {},
   "source": [
    "### Generate Initial Population from set of locations"
   ]
  },
  {
   "cell_type": "code",
   "execution_count": 3,
   "metadata": {},
   "outputs": [],
   "source": [
    "def generateInitialPopulation(locations, population_size):\n",
    "    initial_population = []\n",
    "    for i in range(0, population_size):\n",
    "        initial_population.append(random.sample(locations, len(locations)))\n",
    "    return  initial_population        "
   ]
  },
  {
   "cell_type": "markdown",
   "metadata": {},
   "source": [
    "### Fitness calculation\n",
    "\n",
    "Here, we calculate the total distance to be covered between all the datapoints using the pythagoras theorem. The inverse of the score is taken since high fitness is given to the population which covers all the locations in minimum distance. The fitness score is inversely related to the total distance."
   ]
  },
  {
   "cell_type": "code",
   "execution_count": 4,
   "metadata": {},
   "outputs": [],
   "source": [
    "def calcFitness(locations):\n",
    "    score = 0.0\n",
    "    for i in range(len(locations)):\n",
    "        f = 0.0\n",
    "        if i == len(locations)-1:\n",
    "            f = locations[i].calcDistance(locations[0])\n",
    "        else:\n",
    "            f = locations[i].calcDistance(locations[i+1])\n",
    "        score += f\n",
    "    score = (1/score)\n",
    "    return score"
   ]
  },
  {
   "cell_type": "markdown",
   "metadata": {},
   "source": [
    "### Selection"
   ]
  },
  {
   "cell_type": "code",
   "execution_count": 5,
   "metadata": {},
   "outputs": [],
   "source": [
    "def Selection(population, elite_size):\n",
    "    fitness_values = {}\n",
    "    selection_pool = []\n",
    "    for i in range(len(population)):\n",
    "        fitness_values[i] = calcFitness(population[i])\n",
    "    sorted_fitness = sorted(fitness_values.items(), key = operator.itemgetter(1), reverse = True)\n",
    "    df = pd.DataFrame(np.array(sorted_fitness), columns=[\"Index\",\"Fitness\"])\n",
    "    df['cum_sum'] = df.Fitness.cumsum()\n",
    "    df['cum_perc'] = 100*df.cum_sum/df.Fitness.sum()\n",
    "    for i in range(0, elite_size):\n",
    "        selection_pool.append(population[sorted_fitness[i][0]])\n",
    "    for i in range(0, len(sorted_fitness) - elite_size):\n",
    "        pick = 100*random.random()\n",
    "        for i in range(0, len(sorted_fitness)):\n",
    "            if pick <= df.iat[i,3]:\n",
    "                selection_pool.append(population[sorted_fitness[i][0]])\n",
    "                break  \n",
    "    return selection_pool"
   ]
  },
  {
   "cell_type": "markdown",
   "metadata": {},
   "source": [
    "### Mating"
   ]
  },
  {
   "cell_type": "code",
   "execution_count": 6,
   "metadata": {},
   "outputs": [],
   "source": [
    "def Mating(sel_pool, elite_size):\n",
    "    offsprings = sel_pool[:elite_size]\n",
    "    new_pool = random.sample(sel_pool, len(sel_pool))   #retain the best routes using ellitism\n",
    "    for i in range(0, len(sel_pool)-elite_size):\n",
    "        a = int(random.random()*len(new_pool[i]))\n",
    "        b = int(random.random()*len(new_pool[len(sel_pool)-i-1]))\n",
    "        new_off = new_pool[i][min(a,b):max(a,b)]\n",
    "        new_off += [i for i in new_pool[len(sel_pool)-i-1] if i not in new_off]\n",
    "        offsprings.append(new_off)\n",
    "    return offsprings"
   ]
  },
  {
   "cell_type": "markdown",
   "metadata": {},
   "source": [
    "### Mutation"
   ]
  },
  {
   "cell_type": "code",
   "execution_count": 7,
   "metadata": {},
   "outputs": [],
   "source": [
    "def Mutate(offsprings, mutation_rate):\n",
    "    for i in range(len(offsprings)):\n",
    "        for j in range(len(offsprings[i])):\n",
    "            if(random.random() < mutation_rate):\n",
    "                rand = int(random.random()*len(offsprings[i]))\n",
    "                temp = offsprings[i][rand]\n",
    "                offsprings[i][rand] = offsprings[i][j]\n",
    "                offsprings[i][j] = temp\n",
    "    return offsprings                "
   ]
  },
  {
   "cell_type": "markdown",
   "metadata": {},
   "source": [
    "### TSA GA"
   ]
  },
  {
   "cell_type": "code",
   "execution_count": 8,
   "metadata": {},
   "outputs": [],
   "source": [
    "new_pop=[]\n",
    "def TSA_GA(num_location, population_size, elite_size, mutation_rate, num_generations):\n",
    "    location = []\n",
    "    dist = []\n",
    "    # Generate random locations dataset\n",
    "    for i in range(num_location):\n",
    "        (x, y) = (int(random.random()*100), int(random.random()*100))\n",
    "        location.append(Location(x, y))\n",
    "    # Generation random population from the generated location datapoints\n",
    "    population = generateInitialPopulation(location, population_size)\n",
    "    print(\"Initial Distance:\", str(1/calcFitness(population[0])))\n",
    "    for i in range(num_generations):\n",
    "        sel = Selection(population, elite_size)     # Sorting the population pool based on the fitness score\n",
    "        dist.append((1/calcFitness(sel[0])))        # Appending the minimum distance in each generation for visualization\n",
    "        offsprings = Mating(sel, elite_size)        # Generating offsprings for the next generation\n",
    "        new_pop = Mutate(offsprings, mutation_rate) # Mutating the offsprings by randomly swapping locations\n",
    "        population = new_pop\n",
    "    print(\"Final Distance:\", str(1/calcFitness(offsprings[0])))\n",
    "    print(\"Best route:\")\n",
    "    for i in sel[0]:\n",
    "        print(i.dispLoc())\n",
    "    return dist, sel[0]\n",
    "    "
   ]
  },
  {
   "cell_type": "markdown",
   "metadata": {},
   "source": [
    "Read the configurations from the config.json which consists the following parameters.\n",
    "```\n",
    "{\n",
    "\t\"num_location\" : 20,\n",
    "\t\"elite_size\" : 20,\n",
    "\t\"num_generations\" : 500,\n",
    "\t\"population_size\" : 100,\n",
    "\t\"mutation_rate\" : 0.01\n",
    "}```\n",
    "\n",
    "The parameters can be modified by changing the values directly in the config.json"
   ]
  },
  {
   "cell_type": "code",
   "execution_count": 9,
   "metadata": {},
   "outputs": [
    {
     "name": "stdout",
     "output_type": "stream",
     "text": [
      "Initial Distance: 1152.6433320450774\n",
      "Final Distance: 431.95541307323396\n",
      "Best route:\n",
      "(6, 65)\n",
      "(0, 80)\n",
      "(20, 71)\n",
      "(35, 40)\n",
      "(62, 24)\n",
      "(68, 17)\n",
      "(65, 13)\n",
      "(60, 12)\n",
      "(67, 6)\n",
      "(85, 12)\n",
      "(76, 20)\n",
      "(75, 32)\n",
      "(72, 45)\n",
      "(95, 82)\n",
      "(82, 98)\n",
      "(41, 72)\n",
      "(21, 45)\n",
      "(7, 15)\n",
      "(5, 9)\n",
      "(0, 48)\n"
     ]
    }
   ],
   "source": [
    "with open('config.json') as json_data_file:\n",
    "    data = json.load(json_data_file)\n",
    "dist, path = TSA_GA(data['num_location'], data['population_size'], data['elite_size'], data['mutation_rate'], data['num_generations'])\n",
    "path = [i.dispLoc() for i in path]"
   ]
  },
  {
   "cell_type": "markdown",
   "metadata": {},
   "source": [
    "### Results"
   ]
  },
  {
   "cell_type": "markdown",
   "metadata": {},
   "source": [
    "#### Graph between the Minimum distance to be covered vs Generation"
   ]
  },
  {
   "cell_type": "code",
   "execution_count": 10,
   "metadata": {},
   "outputs": [
    {
     "data": {
      "image/png": "[encoded data removed]",
      "text/plain": [
       "<matplotlib.figure.Figure at 0x21d4c778898>"
      ]
     },
     "metadata": {
      "needs_background": "light"
     },
     "output_type": "display_data"
    }
   ],
   "source": [
    "def plotGraph(dist, generation):\n",
    "    plt.plot(dist)\n",
    "    plt.ylabel('Distance')\n",
    "    plt.xlabel('Generation')\n",
    "    plt.show()\n",
    "    \n",
    "plotGraph(dist, generation = data['num_generations'])"
   ]
  },
  {
   "cell_type": "markdown",
   "metadata": {},
   "source": [
    "#### Plot of the shortest path to cover all the locations"
   ]
  },
  {
   "cell_type": "code",
   "execution_count": 11,
   "metadata": {},
   "outputs": [
    {
     "data": {
      "image/png": "[encoded data removed]",
      "text/plain": [
       "<matplotlib.figure.Figure at 0x21d4e88ca20>"
      ]
     },
     "metadata": {
      "needs_background": "light"
     },
     "output_type": "display_data"
    }
   ],
   "source": [
    "x = []\n",
    "y = []\n",
    "for i in path:\n",
    "    x.append(i[0])\n",
    "    y.append(i[1])\n",
    "\n",
    "fig = plt.figure(figsize=(10, 8))\n",
    "plt.scatter(x, y, marker ='o', s=50)\n",
    "plt.scatter(x[0], y[0], marker ='o', color='green', s=200)\n",
    "plt.scatter(x[-1], y[-1], marker ='o', color='red', s=200)\n",
    "plt.ylabel('Y co-ordinate')\n",
    "plt.xlabel('X co-ordinate')\n",
    "plt.title(\"Shortest Path\")\n",
    "for i in range(len(path)):\n",
    "    if i == len(path) - 1:\n",
    "        plt.plot([path[i][0], path[0][0]], [path[i][1], path[0][1]])\n",
    "    else:\n",
    "        plt.plot([path[i][0], path[i+1][0]], [path[i][1], path[i+1][1]])\n",
    "    \n",
    "plt.show()\n",
    "    \n"
   ]
  },
  {
   "cell_type": "markdown",
   "metadata": {},
   "source": [
    "Green dot denotes the starting place\n",
    "Red dot denotes the destination location"
   ]
  }
 ],
 "metadata": {
  "kernelspec": {
   "display_name": "Python 3",
   "language": "python",
   "name": "python3"
  },
  "language_info": {
   "codemirror_mode": {
    "name": "ipython",
    "version": 3
   },
   "file_extension": ".py",
   "mimetype": "text/x-python",
   "name": "python",
   "nbconvert_exporter": "python",
   "pygments_lexer": "ipython3",
   "version": "3.6.4"
  }
 },
 "nbformat": 4,
 "nbformat_minor": 2
}
